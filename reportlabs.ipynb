{
 "cells": [
  {
   "cell_type": "code",
   "execution_count": 10,
   "id": "56b6f910",
   "metadata": {},
   "outputs": [
    {
     "data": {
      "text/plain": [
       "'/home/lenovo'"
      ]
     },
     "execution_count": 10,
     "metadata": {},
     "output_type": "execute_result"
    }
   ],
   "source": [
    "import os\n",
    "os.getcwd()"
   ]
  },
  {
   "cell_type": "code",
   "execution_count": 11,
   "id": "7f3889ce",
   "metadata": {},
   "outputs": [],
   "source": [
    "from reportlab.platypus import SimpleDocTemplate\n",
    "from reportlab.platypus import Paragraph, Spacer, Table, Image\n",
    "from reportlab.lib.styles import getSampleStyleSheet\n",
    "\n",
    "styles = getSampleStyleSheet()\n",
    "report = SimpleDocTemplate(  os.getcwd() + \"/report.pdf\", pagesize = A4)\n",
    "report_title = Paragraph(\"A Complete Inventory of My Fruit\", styles[\"h1\"])"
   ]
  },
  {
   "cell_type": "code",
   "execution_count": 18,
   "id": "568eb5e7",
   "metadata": {},
   "outputs": [
    {
     "name": "stdout",
     "output_type": "stream",
     "text": [
      "[['elderberries', 1], ['figs', 1], ['apples', 2], ['durians', 3], ['bananas', 5], ['cherries', 8], ['grapes', 13], ['Oh YEs', 22]]\n"
     ]
    }
   ],
   "source": [
    "fruit = {\n",
    "  \"elderberries\": 1,\n",
    "  \"figs\": 1,\n",
    "  \"apples\": 2,\n",
    "  \"durians\": 3,\n",
    "  \"bananas\": 5,\n",
    "  \"cherries\": 8,\n",
    "  \"grapes\": 13,\n",
    "  \"Oh YEs\": 22\n",
    "}\n",
    "table_data = []\n",
    "for k, v in fruit.items():\n",
    "    table_data.append([k, v])\n",
    "\n",
    "print(table_data)"
   ]
  },
  {
   "cell_type": "code",
   "execution_count": 19,
   "id": "1a926058",
   "metadata": {},
   "outputs": [],
   "source": [
    "report_table = Table(data = table_data)"
   ]
  },
  {
   "cell_type": "code",
   "execution_count": 31,
   "id": "f2d2cc32",
   "metadata": {},
   "outputs": [],
   "source": [
    "report.build([report_title,report_table,Paragraph('*'*112)])"
   ]
  },
  {
   "cell_type": "code",
   "execution_count": null,
   "id": "81b5acbb",
   "metadata": {},
   "outputs": [],
   "source": []
  }
 ],
 "metadata": {
  "kernelspec": {
   "display_name": "Python 3 (ipykernel)",
   "language": "python",
   "name": "python3"
  },
  "language_info": {
   "codemirror_mode": {
    "name": "ipython",
    "version": 3
   },
   "file_extension": ".py",
   "mimetype": "text/x-python",
   "name": "python",
   "nbconvert_exporter": "python",
   "pygments_lexer": "ipython3",
   "version": "3.8.8"
  }
 },
 "nbformat": 4,
 "nbformat_minor": 5
}
