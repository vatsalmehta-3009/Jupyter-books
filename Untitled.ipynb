{
 "cells": [
  {
   "cell_type": "code",
   "execution_count": 1,
   "id": "b22ac0a5",
   "metadata": {},
   "outputs": [
    {
     "ename": "NameError",
     "evalue": "name 'reverse_id' is not defined",
     "output_type": "error",
     "traceback": [
      "\u001b[0;31m---------------------------------------------------------------------------\u001b[0m",
      "\u001b[0;31mNameError\u001b[0m                                 Traceback (most recent call last)",
      "\u001b[0;32m/tmp/ipykernel_4840/304093162.py\u001b[0m in \u001b[0;36m<module>\u001b[0;34m\u001b[0m\n\u001b[0;32m----> 1\u001b[0;31m \u001b[0mreverse_id\u001b[0m\u001b[0;34m(\u001b[0m\u001b[0mid\u001b[0m\u001b[0;34m(\u001b[0m\u001b[0;36m10\u001b[0m\u001b[0;34m)\u001b[0m\u001b[0;34m)\u001b[0m\u001b[0;34m\u001b[0m\u001b[0;34m\u001b[0m\u001b[0m\n\u001b[0m",
      "\u001b[0;31mNameError\u001b[0m: name 'reverse_id' is not defined"
     ]
    }
   ],
   "source": [
    "reverse_id(id(10))"
   ]
  },
  {
   "cell_type": "code",
   "execution_count": 1,
   "id": "8db4da36",
   "metadata": {},
   "outputs": [
    {
     "data": {
      "text/plain": [
       "93936753864288"
      ]
     },
     "execution_count": 1,
     "metadata": {},
     "output_type": "execute_result"
    }
   ],
   "source": [
    "id(10)"
   ]
  },
  {
   "cell_type": "code",
   "execution_count": 3,
   "id": "69ba6f8a",
   "metadata": {
    "scrolled": true
   },
   "outputs": [
    {
     "data": {
      "text/plain": [
       "{'__name__': '__main__',\n",
       " '__doc__': 'Automatically created module for IPython interactive environment',\n",
       " '__package__': None,\n",
       " '__loader__': None,\n",
       " '__spec__': None,\n",
       " '__builtin__': <module 'builtins' (built-in)>,\n",
       " '__builtins__': <module 'builtins' (built-in)>,\n",
       " '_ih': ['', 'reverse_id(id(10))', 'id(10)', 'globals()'],\n",
       " '_oh': {2: 94415148220000},\n",
       " '_dh': ['/home/lenovo'],\n",
       " 'In': ['', 'reverse_id(id(10))', 'id(10)', 'globals()'],\n",
       " 'Out': {2: 94415148220000},\n",
       " 'get_ipython': <bound method InteractiveShell.get_ipython of <ipykernel.zmqshell.ZMQInteractiveShell object at 0x7f806be7fd60>>,\n",
       " 'exit': <IPython.core.autocall.ZMQExitAutocall at 0x7f806be402e0>,\n",
       " 'quit': <IPython.core.autocall.ZMQExitAutocall at 0x7f806be402e0>,\n",
       " '_': 94415148220000,\n",
       " '__': '',\n",
       " '___': '',\n",
       " '_i': 'id(10)',\n",
       " '_ii': 'reverse_id(id(10))',\n",
       " '_iii': '',\n",
       " '_i1': 'reverse_id(id(10))',\n",
       " '_i2': 'id(10)',\n",
       " '_2': 94415148220000,\n",
       " '_i3': 'globals()'}"
      ]
     },
     "execution_count": 3,
     "metadata": {},
     "output_type": "execute_result"
    }
   ],
   "source": [
    "globals()"
   ]
  },
  {
   "cell_type": "code",
   "execution_count": 4,
   "id": "83373cf5",
   "metadata": {},
   "outputs": [
    {
     "ename": "SyntaxError",
     "evalue": "invalid syntax (1833420680.py, line 1)",
     "output_type": "error",
     "traceback": [
      "\u001b[0;36m  File \u001b[0;32m\"/tmp/ipykernel_4840/1833420680.py\"\u001b[0;36m, line \u001b[0;32m1\u001b[0m\n\u001b[0;31m    global x 3\u001b[0m\n\u001b[0m             ^\u001b[0m\n\u001b[0;31mSyntaxError\u001b[0m\u001b[0;31m:\u001b[0m invalid syntax\n"
     ]
    }
   ],
   "source": [
    "global x"
   ]
  },
  {
   "cell_type": "code",
   "execution_count": null,
   "id": "5dd24b78",
   "metadata": {},
   "outputs": [],
   "source": [
    "day = 'friday'\n",
    "def f(p,d):\n",
    "    return d*0.01*p\n",
    "    "
   ]
  },
  {
   "cell_type": "code",
   "execution_count": 6,
   "id": "3631ebfe",
   "metadata": {},
   "outputs": [],
   "source": [
    "ls=  [1,2,3]\n",
    "ls2 = [2,3,4]\n"
   ]
  },
  {
   "cell_type": "code",
   "execution_count": 8,
   "id": "1cb18309",
   "metadata": {},
   "outputs": [],
   "source": [
    "def people():\n",
    "    global alpha\n",
    "    alpha = 9\n",
    "    x = 6"
   ]
  },
  {
   "cell_type": "code",
   "execution_count": 8,
   "id": "36f70406",
   "metadata": {},
   "outputs": [],
   "source": [
    "#team of 10 members,and you have to randomly select team mates name \n",
    "#for both teams from listofnames,\n",
    "#\n",
    "s = 'abcdefghij'\n"
   ]
  },
  {
   "cell_type": "code",
   "execution_count": 9,
   "id": "8d3bc7c1",
   "metadata": {
    "scrolled": true
   },
   "outputs": [],
   "source": [
    "people()"
   ]
  },
  {
   "cell_type": "code",
   "execution_count": 11,
   "id": "57af5ed7",
   "metadata": {},
   "outputs": [
    {
     "data": {
      "text/plain": [
       "9"
      ]
     },
     "execution_count": 11,
     "metadata": {},
     "output_type": "execute_result"
    }
   ],
   "source": []
  },
  {
   "cell_type": "code",
   "execution_count": 10,
   "id": "b7ab7f9e",
   "metadata": {},
   "outputs": [],
   "source": [
    "namelist = list(s)"
   ]
  },
  {
   "cell_type": "code",
   "execution_count": 11,
   "id": "dae8e745",
   "metadata": {},
   "outputs": [],
   "source": [
    "import random"
   ]
  },
  {
   "cell_type": "code",
   "execution_count": 12,
   "id": "e91b64cc",
   "metadata": {},
   "outputs": [
    {
     "data": {
      "text/plain": [
       "['g', 'e', 'i', 'd', 'b']"
      ]
     },
     "execution_count": 12,
     "metadata": {},
     "output_type": "execute_result"
    }
   ],
   "source": [
    "A = random.sample(namelist,5)\n"
   ]
  },
  {
   "cell_type": "code",
   "execution_count": 13,
   "id": "0f10b4de",
   "metadata": {},
   "outputs": [],
   "source": []
  },
  {
   "cell_type": "code",
   "execution_count": 14,
   "id": "51dd1581",
   "metadata": {},
   "outputs": [
    {
     "data": {
      "text/plain": [
       "[1, 2]"
      ]
     },
     "execution_count": 14,
     "metadata": {},
     "output_type": "execute_result"
    }
   ],
   "source": [
    "ls"
   ]
  },
  {
   "cell_type": "code",
   "execution_count": null,
   "id": "f4b8339d",
   "metadata": {},
   "outputs": [],
   "source": []
  }
 ],
 "metadata": {
  "kernelspec": {
   "display_name": "Python 3 (ipykernel)",
   "language": "python",
   "name": "python3"
  },
  "language_info": {
   "codemirror_mode": {
    "name": "ipython",
    "version": 3
   },
   "file_extension": ".py",
   "mimetype": "text/x-python",
   "name": "python",
   "nbconvert_exporter": "python",
   "pygments_lexer": "ipython3",
   "version": "3.8.8"
  }
 },
 "nbformat": 4,
 "nbformat_minor": 5
}
